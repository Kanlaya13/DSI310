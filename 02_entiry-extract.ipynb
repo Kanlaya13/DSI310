{
 "cells": [
  {
   "cell_type": "code",
   "execution_count": null,
   "id": "3aaf8d13-72a6-41de-b518-6b5f40cbc8c3",
   "metadata": {},
   "outputs": [],
   "source": [
    "from dsmlibrary.datanode import DataNode\n",
    "import json\n",
    "from tqdm.auto import tqdm\n",
    "import pandas as pd"
   ]
  },
  {
   "cell_type": "code",
   "execution_count": null,
   "id": "087c7cf3-2413-4d40-af65-59cdbfa1173a",
   "metadata": {},
   "outputs": [],
   "source": [
    "dir_raw_id = 71\n",
    "dir_process_id = 73"
   ]
  },
  {
   "cell_type": "code",
   "execution_count": null,
   "id": "01712b31-478c-46b3-b224-9dfd239cd35f",
   "metadata": {},
   "outputs": [],
   "source": [
    "datanode = DataNode()"
   ]
  },
  {
   "cell_type": "code",
   "execution_count": null,
   "id": "fa6cd0a4-ba3d-48e8-aa12-2555ae6c5ed3",
   "metadata": {},
   "outputs": [],
   "source": [
    "meta, fp = datanode.get_file(datanode.get_file_id(directory_id=dir_raw_id, name='data_dsi310.json'))\n",
    "meta"
   ]
  },
  {
   "cell_type": "code",
   "execution_count": null,
   "id": "eb645294-badb-4e35-acc2-fd9fbde59747",
   "metadata": {},
   "outputs": [],
   "source": [
    "data = json.load(fp)\n",
    "data"
   ]
  },
  {
   "cell_type": "code",
   "execution_count": null,
   "id": "c8b36351-2c8d-43d7-8a47-9d51b571314c",
   "metadata": {},
   "outputs": [],
   "source": [
    "df = pd.DataFrame(data)\n",
    "df"
   ]
  },
  {
   "cell_type": "code",
   "execution_count": null,
   "id": "4b391066-9728-4761-a3ed-9a3358f529e8",
   "metadata": {},
   "outputs": [],
   "source": [
    "datanode.write(df=df, directory=dir_process_id, name=\"data\", profiling=True, lineage=[datanode.get_file_id(directory_id=dir_raw_id, name='data_dsi310.json')])"
   ]
  },
  {
   "cell_type": "code",
   "execution_count": null,
   "id": "52680a20-385c-44e7-b248-e01877cff9de",
   "metadata": {},
   "outputs": [],
   "source": []
  }
 ],
 "metadata": {
  "kernelspec": {
   "display_name": "Python 3 (ipykernel)",
   "language": "python",
   "name": "python3"
  },
  "language_info": {
   "codemirror_mode": {
    "name": "ipython",
    "version": 3
   },
   "file_extension": ".py",
   "mimetype": "text/x-python",
   "name": "python",
   "nbconvert_exporter": "python",
   "pygments_lexer": "ipython3",
   "version": "3.10.5"
  }
 },
 "nbformat": 4,
 "nbformat_minor": 5
}
