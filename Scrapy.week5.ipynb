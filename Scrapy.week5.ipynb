{
 "cells": [
  {
   "cell_type": "markdown",
   "id": "be4774f6-9369-435c-a058-d0da77ddfbbf",
   "metadata": {},
   "source": [
    "### Import function"
   ]
  },
  {
   "cell_type": "code",
   "execution_count": 15,
   "id": "c8741fd7-e9ef-4831-904d-ea1f528f7818",
   "metadata": {},
   "outputs": [],
   "source": [
    "from bs4 import BeautifulSoup\n",
    "import requests\n",
    "import datetime\n",
    "import pandas as pd\n",
    "import json\n",
    "from dsmlibrary.datanode import DataNode"
   ]
  },
  {
   "cell_type": "markdown",
   "id": "dd75d01a-861c-4323-8fe5-f2861427bda3",
   "metadata": {},
   "source": [
    "### Upload web ที่ทำการ Scrapy และทำการ Scrapy ข้อมูล"
   ]
  },
  {
   "cell_type": "code",
   "execution_count": 16,
   "id": "47bf7a35-0cc2-452b-86c2-f64900519120",
   "metadata": {},
   "outputs": [
    {
     "data": {
      "text/plain": [
       "<Response [200]>"
      ]
     },
     "execution_count": 16,
     "metadata": {},
     "output_type": "execute_result"
    }
   ],
   "source": [
    "data = requests.get('https://www.kasikornresearch.com/th/analysis/Pages/index.aspx?s=สมุนไพร')\n",
    "data"
   ]
  },
  {
   "cell_type": "code",
   "execution_count": 17,
   "id": "10c67541-f4ac-4c78-ba65-6112b61e58df",
   "metadata": {},
   "outputs": [],
   "source": [
    "s = BeautifulSoup(data.content, 'html.parser')"
   ]
  },
  {
   "cell_type": "code",
   "execution_count": 18,
   "id": "73b5c7db-75ca-4dee-86d8-8530a9ae561b",
   "metadata": {},
   "outputs": [],
   "source": [
    "publish_date = []\n",
    "retrieve_date = []\n",
    "title = []\n",
    "content = []\n",
    "source_url = []"
   ]
  },
  {
   "cell_type": "code",
   "execution_count": 19,
   "id": "7a95636b-afb6-4ae8-88e6-96e4e524379f",
   "metadata": {},
   "outputs": [],
   "source": [
    "url_pre = 'https://www.kasikornresearch.com/'\n",
    "\n",
    "for news in s.find_all('div', {'class': 'meta'}):\n",
    "    link = url_pre + news.find('a')['href']\n",
    "    source_url.append(link)\n",
    "    \n",
    "    topic = news.find('a').text\n",
    "    title.append(topic)\n",
    "    \n",
    "    pub = news.find('p').text\n",
    "    publish_date.append(pub)\n",
    "    \n",
    "    retrieve = str(datetime.date.today())\n",
    "    retrieve_date.append(retrieve)\n",
    "\n",
    "# print(publish_datetime)\n",
    "# print(title) \n",
    "# print(source_url)"
   ]
  },
  {
   "cell_type": "code",
   "execution_count": 20,
   "id": "f0c00667-fc36-4200-9b26-06e81cf80598",
   "metadata": {},
   "outputs": [],
   "source": [
    "for c in source_url:\n",
    "    so = requests.get(c)\n",
    "    no = BeautifulSoup(so.content, 'html.parser')\n",
    "    \n",
    "    for n in no.find_all('div', {'class', 'art-content entrycontent'}):\n",
    "        a = n.text\n",
    "        a = a.strip()\n",
    "        a = a.replace('\\u200b', '')\n",
    "        a = a.replace('\\xa0', '')\n",
    "        a = a.replace('\\r', '')\n",
    "        a = a.replace('\\n', '')\n",
    "        a = a.replace('Scan QR Codeหมายเหตุรายงานวิจัยฉบับนี้จัดทำเพื่อเผยแพร่ทั่วไป โดยจัดทำขึ้นจากแหล่งข้อมูลต่างๆ ที่น่าเชื่อถือ แต่บริษัทฯ มิอาจรับรองความถูกต้อง ความน่าเชื่อถือ หรือความสมบูรณ์เพื่อใช้ในทางการค้าหรือประโยชน์อื่นใด บริษัทฯ อาจมีการเปลี่ยนแปลงข้อมูลได้ตลอดโดยไม่ต้องแจ้งให้ทราบล่วงหน้า ทั้งนี้ผู้ใช้ข้อมูลต้องใช้ความระมัดระวังในการใช้ข้อมูลต่างๆ ด้วยวิจารณญาณตนเองและรับผิดชอบในความเสี่ยงเองทั้งสิ้น บริษัทฯ จะไม่รับผิดต่อผู้ใช้หรือบุคคลใดในความเสียหายใดจากการใช้ข้อมูลดังกล่าว ข้อมูลในรายงานฉบับนี้จึงไม่ถือว่าเป็นการให้ความเห็น หรือคำแนะนำในการตัดสินใจทางธุรกิจ แต่อย่างใดทั้งสิ้น', '')\n",
    "        content.append(a)\n",
    "\n",
    "# print(content)"
   ]
  },
  {
   "cell_type": "code",
   "execution_count": 21,
   "id": "4672f843-82a0-437d-b439-3338065f389f",
   "metadata": {},
   "outputs": [
    {
     "data": {
      "text/html": [
       "<div>\n",
       "<style scoped>\n",
       "    .dataframe tbody tr th:only-of-type {\n",
       "        vertical-align: middle;\n",
       "    }\n",
       "\n",
       "    .dataframe tbody tr th {\n",
       "        vertical-align: top;\n",
       "    }\n",
       "\n",
       "    .dataframe thead th {\n",
       "        text-align: right;\n",
       "    }\n",
       "</style>\n",
       "<table border=\"1\" class=\"dataframe\">\n",
       "  <thead>\n",
       "    <tr style=\"text-align: right;\">\n",
       "      <th></th>\n",
       "      <th>title</th>\n",
       "      <th>publish_date</th>\n",
       "      <th>content</th>\n",
       "      <th>source_url</th>\n",
       "      <th>retrieve_date</th>\n",
       "    </tr>\n",
       "  </thead>\n",
       "  <tbody>\n",
       "    <tr>\n",
       "      <th>0</th>\n",
       "      <td>ฟ้าทะลายโจร ยกระดับสมุนไพรไทย สู่อุตสาหกรรมยา</td>\n",
       "      <td>2 มีนาคม 2564</td>\n",
       "      <td>Caption Video</td>\n",
       "      <td>https://www.kasikornresearch.com//th/analysis/...</td>\n",
       "      <td>2022-11-19</td>\n",
       "    </tr>\n",
       "    <tr>\n",
       "      <th>1</th>\n",
       "      <td>สมุนไพรไทย โอกาสธุรกิจที่ต้องคว้าไว้</td>\n",
       "      <td>25 กุมภาพันธ์ 2564</td>\n",
       "      <td>Caption Video</td>\n",
       "      <td>https://www.kasikornresearch.com//th/analysis/...</td>\n",
       "      <td>2022-11-19</td>\n",
       "    </tr>\n",
       "    <tr>\n",
       "      <th>2</th>\n",
       "      <td>สมุนไพรไทย โอกาสธุรกิจ...ที่ต้องคว้าไว้</td>\n",
       "      <td>25 พฤศจิกายน 2563</td>\n",
       "      <td>จากกระแสนิยมดูแลรักษาสุขภาพโดยวิถีธรรมชาติแ...</td>\n",
       "      <td>https://www.kasikornresearch.com//th/analysis/...</td>\n",
       "      <td>2022-11-19</td>\n",
       "    </tr>\n",
       "    <tr>\n",
       "      <th>3</th>\n",
       "      <td>ฟ้าทะลายโจร ยกระดับการผลิตสมุนไพรไทย สู่อุตสาห...</td>\n",
       "      <td>20 เมษายน 2563</td>\n",
       "      <td>ฟ้าทะลายโจร ถูกพูดถึงมากขึ้นในช่วงของการระบาดข...</td>\n",
       "      <td>https://www.kasikornresearch.com//th/analysis/...</td>\n",
       "      <td>2022-11-19</td>\n",
       "    </tr>\n",
       "    <tr>\n",
       "      <th>4</th>\n",
       "      <td>ถึงเวลาโกยเงิน SME รุกตลาดสมุนไพร</td>\n",
       "      <td>18 มีนาคม 2562</td>\n",
       "      <td>สมุนไพรถือเป็นดาวเด่นในแวดวงธุรกิจเพื่อสุขภาพแ...</td>\n",
       "      <td>https://www.kasikornresearch.com//th/analysis/...</td>\n",
       "      <td>2022-11-19</td>\n",
       "    </tr>\n",
       "  </tbody>\n",
       "</table>\n",
       "</div>"
      ],
      "text/plain": [
       "                                               title        publish_date  \\\n",
       "0      ฟ้าทะลายโจร ยกระดับสมุนไพรไทย สู่อุตสาหกรรมยา       2 มีนาคม 2564   \n",
       "1               สมุนไพรไทย โอกาสธุรกิจที่ต้องคว้าไว้  25 กุมภาพันธ์ 2564   \n",
       "2            สมุนไพรไทย โอกาสธุรกิจ...ที่ต้องคว้าไว้   25 พฤศจิกายน 2563   \n",
       "3  ฟ้าทะลายโจร ยกระดับการผลิตสมุนไพรไทย สู่อุตสาห...      20 เมษายน 2563   \n",
       "4                  ถึงเวลาโกยเงิน SME รุกตลาดสมุนไพร      18 มีนาคม 2562   \n",
       "\n",
       "                                             content  \\\n",
       "0                                      Caption Video   \n",
       "1                                      Caption Video   \n",
       "2     จากกระแสนิยมดูแลรักษาสุขภาพโดยวิถีธรรมชาติแ...   \n",
       "3  ฟ้าทะลายโจร ถูกพูดถึงมากขึ้นในช่วงของการระบาดข...   \n",
       "4  สมุนไพรถือเป็นดาวเด่นในแวดวงธุรกิจเพื่อสุขภาพแ...   \n",
       "\n",
       "                                          source_url retrieve_date  \n",
       "0  https://www.kasikornresearch.com//th/analysis/...    2022-11-19  \n",
       "1  https://www.kasikornresearch.com//th/analysis/...    2022-11-19  \n",
       "2  https://www.kasikornresearch.com//th/analysis/...    2022-11-19  \n",
       "3  https://www.kasikornresearch.com//th/analysis/...    2022-11-19  \n",
       "4  https://www.kasikornresearch.com//th/analysis/...    2022-11-19  "
      ]
     },
     "execution_count": 21,
     "metadata": {},
     "output_type": "execute_result"
    }
   ],
   "source": [
    "df = pd.DataFrame([title, publish_date, content, source_url, retrieve_date]).transpose()\n",
    "df.columns = ['title', 'publish_date', 'content', 'source_url', 'retrieve_date']\n",
    "df"
   ]
  },
  {
   "cell_type": "code",
   "execution_count": 22,
   "id": "93eae498-559d-48c5-b7f0-4066556cc2e1",
   "metadata": {},
   "outputs": [],
   "source": [
    "df_json = df.to_dict('records')"
   ]
  },
  {
   "cell_type": "code",
   "execution_count": 23,
   "id": "7cb2c2d1-30bb-4d5e-b425-bb1c6bde642f",
   "metadata": {},
   "outputs": [
    {
     "name": "stdout",
     "output_type": "stream",
     "text": [
      "Total news : 5\n"
     ]
    }
   ],
   "source": [
    "print(f'Total news : {len(df_json)}')"
   ]
  },
  {
   "cell_type": "markdown",
   "id": "246166c9-1ba2-49f4-be1b-d7209b821805",
   "metadata": {},
   "source": [
    "### เรียกใช้ datanode และUpload ข้อมูลลง DataPlatform"
   ]
  },
  {
   "cell_type": "code",
   "execution_count": 24,
   "id": "7f9c208f-d651-4866-b424-d4eb9a3a03d7",
   "metadata": {},
   "outputs": [],
   "source": [
    "with open('HERB_KASIKORNRESEARCH.json', 'w', encoding='utf8') as f:\n",
    "    json.dump(df_json, f)"
   ]
  },
  {
   "cell_type": "code",
   "execution_count": 25,
   "id": "b051ca16-9b5f-49c1-aeeb-f7f5428dbaea",
   "metadata": {},
   "outputs": [],
   "source": [
    "dir_raw_id = 71"
   ]
  },
  {
   "cell_type": "code",
   "execution_count": 26,
   "id": "fbb1319e-e8dc-41b9-adf5-d1532178e8df",
   "metadata": {},
   "outputs": [
    {
     "name": "stdout",
     "output_type": "stream",
     "text": [
      "Init DataNode sucessful!\n"
     ]
    }
   ],
   "source": [
    "datanode = DataNode()"
   ]
  },
  {
   "cell_type": "code",
   "execution_count": 27,
   "id": "d92ca931-40bd-4aaf-830c-243ee11debe7",
   "metadata": {},
   "outputs": [
    {
     "data": {
      "application/vnd.jupyter.widget-view+json": {
       "model_id": "9e9d027c1a924ab995fc62241ba08d52",
       "version_major": 2,
       "version_minor": 0
      },
      "text/plain": [
       "  0%|          | 0.00/52.0k [00:00<?, ?B/s]"
      ]
     },
     "metadata": {},
     "output_type": "display_data"
    },
    {
     "data": {
      "text/plain": [
       "{'id': 886,\n",
       " 'msg': 'file HERB_KASIKORNRESEARCH.json create sucessful',\n",
       " 'path': 'kanlaya/DSI310-17/rawData/HERB_KASIKORNRESEARCH.json',\n",
       " 'uploaded': True}"
      ]
     },
     "execution_count": 27,
     "metadata": {},
     "output_type": "execute_result"
    }
   ],
   "source": [
    "datanode.upload_file(directory_id=dir_raw_id, file_path='HERB_KASIKORNRESEARCH.json')"
   ]
  }
 ],
 "metadata": {
  "kernelspec": {
   "display_name": "Python 3 (ipykernel)",
   "language": "python",
   "name": "python3"
  },
  "language_info": {
   "codemirror_mode": {
    "name": "ipython",
    "version": 3
   },
   "file_extension": ".py",
   "mimetype": "text/x-python",
   "name": "python",
   "nbconvert_exporter": "python",
   "pygments_lexer": "ipython3",
   "version": "3.10.5"
  }
 },
 "nbformat": 4,
 "nbformat_minor": 5
}
