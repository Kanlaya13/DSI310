{
 "cells": [
  {
   "cell_type": "markdown",
   "id": "4c8b7d95-a217-4175-952c-9adf0aaccc28",
   "metadata": {},
   "source": [
    "### Upload file"
   ]
  },
  {
   "cell_type": "code",
   "execution_count": 14,
   "id": "325aea86-c9bd-4700-87dd-54bd64a2bfdd",
   "metadata": {},
   "outputs": [
    {
     "name": "stdout",
     "output_type": "stream",
     "text": [
      "Init DataNode sucessful!\n"
     ]
    },
    {
     "name": "stdin",
     "output_type": "stream",
     "text": [
      "File Shopee_Turmeric.csv alrady exists, do you want to replace y/n :  y\n"
     ]
    },
    {
     "data": {
      "application/vnd.jupyter.widget-view+json": {
       "model_id": "170a9f1272d748949f98a9df41456c76",
       "version_major": 2,
       "version_minor": 0
      },
      "text/plain": [
       "  0%|          | 0.00/74.3k [00:00<?, ?B/s]"
      ]
     },
     "metadata": {},
     "output_type": "display_data"
    },
    {
     "data": {
      "text/plain": [
       "{'id': 649,\n",
       " 'msg': 'file Shopee_Turmeric.csv create sucessful',\n",
       " 'path': 'kanlaya/DSI310-17/rawData/Shopee_Turmeric.csv',\n",
       " 'uploaded': True}"
      ]
     },
     "execution_count": 14,
     "metadata": {},
     "output_type": "execute_result"
    }
   ],
   "source": [
    "from dsmlibrary.datanode import DataNode\n",
    "dir_raw_id = 71\n",
    "datanode = DataNode()\n",
    "datanode.upload_file(directory_id=dir_raw_id, file_path='Shopee_Turmeric.csv')"
   ]
  },
  {
   "cell_type": "markdown",
   "id": "e0bf2a66-cbda-442d-b2f7-dbfcd255491a",
   "metadata": {},
   "source": [
    "### Import function"
   ]
  },
  {
   "cell_type": "code",
   "execution_count": 15,
   "id": "3c50510a-2bac-486b-b581-6046d75f8fd2",
   "metadata": {},
   "outputs": [],
   "source": [
    "from dsmlibrary.datanode import DataNode\n",
    "import json\n",
    "from tqdm.auto import tqdm\n",
    "import pandas as pd"
   ]
  },
  {
   "cell_type": "markdown",
   "id": "82b6dab2-2ed4-49f9-b39c-c74451d6945a",
   "metadata": {},
   "source": [
    "### ใส่ค่า rawData , processData และเรียกใช้ datanode"
   ]
  },
  {
   "cell_type": "code",
   "execution_count": 16,
   "id": "baf6c5dc-96e6-4549-b9ef-0b158f29ec75",
   "metadata": {},
   "outputs": [],
   "source": [
    "dir_raw_id = 71\n",
    "dir_process_id = 73"
   ]
  },
  {
   "cell_type": "code",
   "execution_count": 17,
   "id": "b686331b-b50a-4927-9dc0-3dc4453f9dca",
   "metadata": {},
   "outputs": [
    {
     "name": "stdout",
     "output_type": "stream",
     "text": [
      "Init DataNode sucessful!\n"
     ]
    }
   ],
   "source": [
    "datanode = DataNode()"
   ]
  },
  {
   "cell_type": "markdown",
   "id": "3e8f878b-794b-41ab-8b0c-a7868dc61a78",
   "metadata": {},
   "source": [
    "### แสดงผลข้อมูลและจัดข้อมูลให้อยู่ในรูปแบบตาราง"
   ]
  },
  {
   "cell_type": "code",
   "execution_count": 18,
   "id": "6526a149-2d76-405e-9255-9b27a2782785",
   "metadata": {},
   "outputs": [
    {
     "data": {
      "text/plain": [
       "{'owner': 'kanlaya',\n",
       " 'human_size': '76.08 KB',\n",
       " 'name': 'Shopee_Turmeric.csv',\n",
       " 'description': 'file Shopee_Turmeric.csv',\n",
       " 'directory': 71,\n",
       " 'path': 'kanlaya/DSI310-17/rawData/Shopee_Turmeric.csv'}"
      ]
     },
     "execution_count": 18,
     "metadata": {},
     "output_type": "execute_result"
    }
   ],
   "source": [
    "meta, fp = datanode.get_file(datanode.get_file_id(directory_id=dir_raw_id, name='Shopee_Turmeric.csv'))\n",
    "meta"
   ]
  },
  {
   "cell_type": "code",
   "execution_count": 19,
   "id": "1c3162c1-aa5a-4969-9111-17d511f8d89c",
   "metadata": {},
   "outputs": [],
   "source": [
    "keep = pd.read_csv(fp)"
   ]
  },
  {
   "cell_type": "code",
   "execution_count": 20,
   "id": "7484148f-73d2-441a-b20e-7879948e3868",
   "metadata": {},
   "outputs": [
    {
     "data": {
      "text/html": [
       "<div>\n",
       "<style scoped>\n",
       "    .dataframe tbody tr th:only-of-type {\n",
       "        vertical-align: middle;\n",
       "    }\n",
       "\n",
       "    .dataframe tbody tr th {\n",
       "        vertical-align: top;\n",
       "    }\n",
       "\n",
       "    .dataframe thead th {\n",
       "        text-align: right;\n",
       "    }\n",
       "</style>\n",
       "<table border=\"1\" class=\"dataframe\">\n",
       "  <thead>\n",
       "    <tr style=\"text-align: right;\">\n",
       "      <th></th>\n",
       "      <th>Unnamed: 0</th>\n",
       "      <th>itemname</th>\n",
       "      <th>price</th>\n",
       "      <th>amount</th>\n",
       "      <th>province</th>\n",
       "    </tr>\n",
       "  </thead>\n",
       "  <tbody>\n",
       "    <tr>\n",
       "      <th>0</th>\n",
       "      <td>0</td>\n",
       "      <td>Everydayy Organic ขมิ้นชัน พริกไทยดำ มะขามป้อม...</td>\n",
       "      <td>417.0</td>\n",
       "      <td>8.0</td>\n",
       "      <td>จังหวัดกรุงเทพมหานคร</td>\n",
       "    </tr>\n",
       "    <tr>\n",
       "      <th>1</th>\n",
       "      <td>1</td>\n",
       "      <td>ขมิ้นชนิดแคปซูลขมิ้นชัน</td>\n",
       "      <td>59.0</td>\n",
       "      <td>589.0</td>\n",
       "      <td>จังหวัดกรุงเทพมหานคร</td>\n",
       "    </tr>\n",
       "    <tr>\n",
       "      <th>2</th>\n",
       "      <td>2</td>\n",
       "      <td>กาแฟ LAMOON 3แถม1 ลดปวดข้อ ปวดเข่า ข้ออักเสบ ส...</td>\n",
       "      <td>990.0</td>\n",
       "      <td>100.0</td>\n",
       "      <td>จังหวัดกรุงเทพมหานคร</td>\n",
       "    </tr>\n",
       "    <tr>\n",
       "      <th>3</th>\n",
       "      <td>3</td>\n",
       "      <td>Vitanature+ Curcumin สารสกัดขมิ้นชัน ผสมสารสกั...</td>\n",
       "      <td>1990.0</td>\n",
       "      <td>24.0</td>\n",
       "      <td>จังหวัดปทุมธานี</td>\n",
       "    </tr>\n",
       "    <tr>\n",
       "      <th>4</th>\n",
       "      <td>4</td>\n",
       "      <td>ขมิ้นชัน เคอคูมินอยด์ Curcuma Longa Extract ตร...</td>\n",
       "      <td>68.0</td>\n",
       "      <td>240.0</td>\n",
       "      <td>จังหวัดกรุงเทพมหานคร</td>\n",
       "    </tr>\n",
       "    <tr>\n",
       "      <th>...</th>\n",
       "      <td>...</td>\n",
       "      <td>...</td>\n",
       "      <td>...</td>\n",
       "      <td>...</td>\n",
       "      <td>...</td>\n",
       "    </tr>\n",
       "    <tr>\n",
       "      <th>295</th>\n",
       "      <td>295</td>\n",
       "      <td>Vitanature+ Curcumin ผลิตภัณฑ์เสริมอาหาร สารสก...</td>\n",
       "      <td>350.0</td>\n",
       "      <td>104.0</td>\n",
       "      <td>จังหวัดปทุมธานี</td>\n",
       "    </tr>\n",
       "    <tr>\n",
       "      <th>296</th>\n",
       "      <td>296</td>\n",
       "      <td>สารสกัดชมิ้นชันและผงขมิ้นชันชนิดแคปซูล IMMOR (...</td>\n",
       "      <td>705.0</td>\n",
       "      <td>81.0</td>\n",
       "      <td>จังหวัดปทุมธานี</td>\n",
       "    </tr>\n",
       "    <tr>\n",
       "      <th>297</th>\n",
       "      <td>297</td>\n",
       "      <td>แบรนด์ซุปไก่สกัด ผสมขมิ้นชัน 42 มล. แพค 12</td>\n",
       "      <td>415.0</td>\n",
       "      <td>65.0</td>\n",
       "      <td>จังหวัดสมุทรปราการ</td>\n",
       "    </tr>\n",
       "    <tr>\n",
       "      <th>298</th>\n",
       "      <td>298</td>\n",
       "      <td>PHYTO CARE ขมิ้นชันแคปซูล (100 แคปซูล)</td>\n",
       "      <td>150.0</td>\n",
       "      <td>138.0</td>\n",
       "      <td>จังหวัดพระนครศรีอยุธยา</td>\n",
       "    </tr>\n",
       "    <tr>\n",
       "      <th>299</th>\n",
       "      <td>299</td>\n",
       "      <td>vitanature+ Curcumin Extract with Ginger Extra...</td>\n",
       "      <td>890.0</td>\n",
       "      <td>62.0</td>\n",
       "      <td>จังหวัดปทุมธานี</td>\n",
       "    </tr>\n",
       "  </tbody>\n",
       "</table>\n",
       "<p>300 rows × 5 columns</p>\n",
       "</div>"
      ],
      "text/plain": [
       "     Unnamed: 0                                           itemname   price  \\\n",
       "0             0  Everydayy Organic ขมิ้นชัน พริกไทยดำ มะขามป้อม...   417.0   \n",
       "1             1                            ขมิ้นชนิดแคปซูลขมิ้นชัน    59.0   \n",
       "2             2  กาแฟ LAMOON 3แถม1 ลดปวดข้อ ปวดเข่า ข้ออักเสบ ส...   990.0   \n",
       "3             3  Vitanature+ Curcumin สารสกัดขมิ้นชัน ผสมสารสกั...  1990.0   \n",
       "4             4  ขมิ้นชัน เคอคูมินอยด์ Curcuma Longa Extract ตร...    68.0   \n",
       "..          ...                                                ...     ...   \n",
       "295         295  Vitanature+ Curcumin ผลิตภัณฑ์เสริมอาหาร สารสก...   350.0   \n",
       "296         296  สารสกัดชมิ้นชันและผงขมิ้นชันชนิดแคปซูล IMMOR (...   705.0   \n",
       "297         297         แบรนด์ซุปไก่สกัด ผสมขมิ้นชัน 42 มล. แพค 12   415.0   \n",
       "298         298             PHYTO CARE ขมิ้นชันแคปซูล (100 แคปซูล)   150.0   \n",
       "299         299  vitanature+ Curcumin Extract with Ginger Extra...   890.0   \n",
       "\n",
       "     amount                province  \n",
       "0       8.0    จังหวัดกรุงเทพมหานคร  \n",
       "1     589.0    จังหวัดกรุงเทพมหานคร  \n",
       "2     100.0    จังหวัดกรุงเทพมหานคร  \n",
       "3      24.0         จังหวัดปทุมธานี  \n",
       "4     240.0    จังหวัดกรุงเทพมหานคร  \n",
       "..      ...                     ...  \n",
       "295   104.0         จังหวัดปทุมธานี  \n",
       "296    81.0         จังหวัดปทุมธานี  \n",
       "297    65.0      จังหวัดสมุทรปราการ  \n",
       "298   138.0  จังหวัดพระนครศรีอยุธยา  \n",
       "299    62.0         จังหวัดปทุมธานี  \n",
       "\n",
       "[300 rows x 5 columns]"
      ]
     },
     "execution_count": 20,
     "metadata": {},
     "output_type": "execute_result"
    }
   ],
   "source": [
    "keep"
   ]
  },
  {
   "cell_type": "code",
   "execution_count": 21,
   "id": "3535b67b-7d11-4152-aa7e-3dc9da22ff86",
   "metadata": {},
   "outputs": [
    {
     "data": {
      "text/html": [
       "<div>\n",
       "<style scoped>\n",
       "    .dataframe tbody tr th:only-of-type {\n",
       "        vertical-align: middle;\n",
       "    }\n",
       "\n",
       "    .dataframe tbody tr th {\n",
       "        vertical-align: top;\n",
       "    }\n",
       "\n",
       "    .dataframe thead th {\n",
       "        text-align: right;\n",
       "    }\n",
       "</style>\n",
       "<table border=\"1\" class=\"dataframe\">\n",
       "  <thead>\n",
       "    <tr style=\"text-align: right;\">\n",
       "      <th></th>\n",
       "      <th>Unnamed: 0</th>\n",
       "      <th>itemname</th>\n",
       "      <th>price</th>\n",
       "      <th>amount</th>\n",
       "      <th>province</th>\n",
       "    </tr>\n",
       "  </thead>\n",
       "  <tbody>\n",
       "    <tr>\n",
       "      <th>0</th>\n",
       "      <td>0</td>\n",
       "      <td>Everydayy Organic ขมิ้นชัน พริกไทยดำ มะขามป้อม...</td>\n",
       "      <td>417.0</td>\n",
       "      <td>8.0</td>\n",
       "      <td>จังหวัดกรุงเทพมหานคร</td>\n",
       "    </tr>\n",
       "    <tr>\n",
       "      <th>1</th>\n",
       "      <td>1</td>\n",
       "      <td>ขมิ้นชนิดแคปซูลขมิ้นชัน</td>\n",
       "      <td>59.0</td>\n",
       "      <td>589.0</td>\n",
       "      <td>จังหวัดกรุงเทพมหานคร</td>\n",
       "    </tr>\n",
       "    <tr>\n",
       "      <th>2</th>\n",
       "      <td>2</td>\n",
       "      <td>กาแฟ LAMOON 3แถม1 ลดปวดข้อ ปวดเข่า ข้ออักเสบ ส...</td>\n",
       "      <td>990.0</td>\n",
       "      <td>100.0</td>\n",
       "      <td>จังหวัดกรุงเทพมหานคร</td>\n",
       "    </tr>\n",
       "    <tr>\n",
       "      <th>3</th>\n",
       "      <td>3</td>\n",
       "      <td>Vitanature+ Curcumin สารสกัดขมิ้นชัน ผสมสารสกั...</td>\n",
       "      <td>1990.0</td>\n",
       "      <td>24.0</td>\n",
       "      <td>จังหวัดปทุมธานี</td>\n",
       "    </tr>\n",
       "    <tr>\n",
       "      <th>4</th>\n",
       "      <td>4</td>\n",
       "      <td>ขมิ้นชัน เคอคูมินอยด์ Curcuma Longa Extract ตร...</td>\n",
       "      <td>68.0</td>\n",
       "      <td>240.0</td>\n",
       "      <td>จังหวัดกรุงเทพมหานคร</td>\n",
       "    </tr>\n",
       "    <tr>\n",
       "      <th>...</th>\n",
       "      <td>...</td>\n",
       "      <td>...</td>\n",
       "      <td>...</td>\n",
       "      <td>...</td>\n",
       "      <td>...</td>\n",
       "    </tr>\n",
       "    <tr>\n",
       "      <th>295</th>\n",
       "      <td>295</td>\n",
       "      <td>Vitanature+ Curcumin ผลิตภัณฑ์เสริมอาหาร สารสก...</td>\n",
       "      <td>350.0</td>\n",
       "      <td>104.0</td>\n",
       "      <td>จังหวัดปทุมธานี</td>\n",
       "    </tr>\n",
       "    <tr>\n",
       "      <th>296</th>\n",
       "      <td>296</td>\n",
       "      <td>สารสกัดชมิ้นชันและผงขมิ้นชันชนิดแคปซูล IMMOR (...</td>\n",
       "      <td>705.0</td>\n",
       "      <td>81.0</td>\n",
       "      <td>จังหวัดปทุมธานี</td>\n",
       "    </tr>\n",
       "    <tr>\n",
       "      <th>297</th>\n",
       "      <td>297</td>\n",
       "      <td>แบรนด์ซุปไก่สกัด ผสมขมิ้นชัน 42 มล. แพค 12</td>\n",
       "      <td>415.0</td>\n",
       "      <td>65.0</td>\n",
       "      <td>จังหวัดสมุทรปราการ</td>\n",
       "    </tr>\n",
       "    <tr>\n",
       "      <th>298</th>\n",
       "      <td>298</td>\n",
       "      <td>PHYTO CARE ขมิ้นชันแคปซูล (100 แคปซูล)</td>\n",
       "      <td>150.0</td>\n",
       "      <td>138.0</td>\n",
       "      <td>จังหวัดพระนครศรีอยุธยา</td>\n",
       "    </tr>\n",
       "    <tr>\n",
       "      <th>299</th>\n",
       "      <td>299</td>\n",
       "      <td>vitanature+ Curcumin Extract with Ginger Extra...</td>\n",
       "      <td>890.0</td>\n",
       "      <td>62.0</td>\n",
       "      <td>จังหวัดปทุมธานี</td>\n",
       "    </tr>\n",
       "  </tbody>\n",
       "</table>\n",
       "<p>300 rows × 5 columns</p>\n",
       "</div>"
      ],
      "text/plain": [
       "     Unnamed: 0                                           itemname   price  \\\n",
       "0             0  Everydayy Organic ขมิ้นชัน พริกไทยดำ มะขามป้อม...   417.0   \n",
       "1             1                            ขมิ้นชนิดแคปซูลขมิ้นชัน    59.0   \n",
       "2             2  กาแฟ LAMOON 3แถม1 ลดปวดข้อ ปวดเข่า ข้ออักเสบ ส...   990.0   \n",
       "3             3  Vitanature+ Curcumin สารสกัดขมิ้นชัน ผสมสารสกั...  1990.0   \n",
       "4             4  ขมิ้นชัน เคอคูมินอยด์ Curcuma Longa Extract ตร...    68.0   \n",
       "..          ...                                                ...     ...   \n",
       "295         295  Vitanature+ Curcumin ผลิตภัณฑ์เสริมอาหาร สารสก...   350.0   \n",
       "296         296  สารสกัดชมิ้นชันและผงขมิ้นชันชนิดแคปซูล IMMOR (...   705.0   \n",
       "297         297         แบรนด์ซุปไก่สกัด ผสมขมิ้นชัน 42 มล. แพค 12   415.0   \n",
       "298         298             PHYTO CARE ขมิ้นชันแคปซูล (100 แคปซูล)   150.0   \n",
       "299         299  vitanature+ Curcumin Extract with Ginger Extra...   890.0   \n",
       "\n",
       "     amount                province  \n",
       "0       8.0    จังหวัดกรุงเทพมหานคร  \n",
       "1     589.0    จังหวัดกรุงเทพมหานคร  \n",
       "2     100.0    จังหวัดกรุงเทพมหานคร  \n",
       "3      24.0         จังหวัดปทุมธานี  \n",
       "4     240.0    จังหวัดกรุงเทพมหานคร  \n",
       "..      ...                     ...  \n",
       "295   104.0         จังหวัดปทุมธานี  \n",
       "296    81.0         จังหวัดปทุมธานี  \n",
       "297    65.0      จังหวัดสมุทรปราการ  \n",
       "298   138.0  จังหวัดพระนครศรีอยุธยา  \n",
       "299    62.0         จังหวัดปทุมธานี  \n",
       "\n",
       "[300 rows x 5 columns]"
      ]
     },
     "execution_count": 21,
     "metadata": {},
     "output_type": "execute_result"
    }
   ],
   "source": [
    "#จัดข้อมูลให้อยู่ในรูปแบบตาราง\n",
    "df = pd.DataFrame(keep)\n",
    "df"
   ]
  },
  {
   "cell_type": "code",
   "execution_count": 22,
   "id": "ba306116-7491-49fd-b83d-e4baa1d564ec",
   "metadata": {},
   "outputs": [
    {
     "data": {
      "text/html": [
       "<div>\n",
       "<style scoped>\n",
       "    .dataframe tbody tr th:only-of-type {\n",
       "        vertical-align: middle;\n",
       "    }\n",
       "\n",
       "    .dataframe tbody tr th {\n",
       "        vertical-align: top;\n",
       "    }\n",
       "\n",
       "    .dataframe thead th {\n",
       "        text-align: right;\n",
       "    }\n",
       "</style>\n",
       "<table border=\"1\" class=\"dataframe\">\n",
       "  <thead>\n",
       "    <tr style=\"text-align: right;\">\n",
       "      <th></th>\n",
       "      <th>ID</th>\n",
       "      <th>itemname</th>\n",
       "      <th>price</th>\n",
       "      <th>amount</th>\n",
       "      <th>province</th>\n",
       "    </tr>\n",
       "  </thead>\n",
       "  <tbody>\n",
       "    <tr>\n",
       "      <th>0</th>\n",
       "      <td>0</td>\n",
       "      <td>Everydayy Organic ขมิ้นชัน พริกไทยดำ มะขามป้อม...</td>\n",
       "      <td>417.0</td>\n",
       "      <td>8.0</td>\n",
       "      <td>จังหวัดกรุงเทพมหานคร</td>\n",
       "    </tr>\n",
       "    <tr>\n",
       "      <th>1</th>\n",
       "      <td>1</td>\n",
       "      <td>ขมิ้นชนิดแคปซูลขมิ้นชัน</td>\n",
       "      <td>59.0</td>\n",
       "      <td>589.0</td>\n",
       "      <td>จังหวัดกรุงเทพมหานคร</td>\n",
       "    </tr>\n",
       "    <tr>\n",
       "      <th>2</th>\n",
       "      <td>2</td>\n",
       "      <td>กาแฟ LAMOON 3แถม1 ลดปวดข้อ ปวดเข่า ข้ออักเสบ ส...</td>\n",
       "      <td>990.0</td>\n",
       "      <td>100.0</td>\n",
       "      <td>จังหวัดกรุงเทพมหานคร</td>\n",
       "    </tr>\n",
       "    <tr>\n",
       "      <th>3</th>\n",
       "      <td>3</td>\n",
       "      <td>Vitanature+ Curcumin สารสกัดขมิ้นชัน ผสมสารสกั...</td>\n",
       "      <td>1990.0</td>\n",
       "      <td>24.0</td>\n",
       "      <td>จังหวัดปทุมธานี</td>\n",
       "    </tr>\n",
       "    <tr>\n",
       "      <th>4</th>\n",
       "      <td>4</td>\n",
       "      <td>ขมิ้นชัน เคอคูมินอยด์ Curcuma Longa Extract ตร...</td>\n",
       "      <td>68.0</td>\n",
       "      <td>240.0</td>\n",
       "      <td>จังหวัดกรุงเทพมหานคร</td>\n",
       "    </tr>\n",
       "    <tr>\n",
       "      <th>...</th>\n",
       "      <td>...</td>\n",
       "      <td>...</td>\n",
       "      <td>...</td>\n",
       "      <td>...</td>\n",
       "      <td>...</td>\n",
       "    </tr>\n",
       "    <tr>\n",
       "      <th>295</th>\n",
       "      <td>295</td>\n",
       "      <td>Vitanature+ Curcumin ผลิตภัณฑ์เสริมอาหาร สารสก...</td>\n",
       "      <td>350.0</td>\n",
       "      <td>104.0</td>\n",
       "      <td>จังหวัดปทุมธานี</td>\n",
       "    </tr>\n",
       "    <tr>\n",
       "      <th>296</th>\n",
       "      <td>296</td>\n",
       "      <td>สารสกัดชมิ้นชันและผงขมิ้นชันชนิดแคปซูล IMMOR (...</td>\n",
       "      <td>705.0</td>\n",
       "      <td>81.0</td>\n",
       "      <td>จังหวัดปทุมธานี</td>\n",
       "    </tr>\n",
       "    <tr>\n",
       "      <th>297</th>\n",
       "      <td>297</td>\n",
       "      <td>แบรนด์ซุปไก่สกัด ผสมขมิ้นชัน 42 มล. แพค 12</td>\n",
       "      <td>415.0</td>\n",
       "      <td>65.0</td>\n",
       "      <td>จังหวัดสมุทรปราการ</td>\n",
       "    </tr>\n",
       "    <tr>\n",
       "      <th>298</th>\n",
       "      <td>298</td>\n",
       "      <td>PHYTO CARE ขมิ้นชันแคปซูล (100 แคปซูล)</td>\n",
       "      <td>150.0</td>\n",
       "      <td>138.0</td>\n",
       "      <td>จังหวัดพระนครศรีอยุธยา</td>\n",
       "    </tr>\n",
       "    <tr>\n",
       "      <th>299</th>\n",
       "      <td>299</td>\n",
       "      <td>vitanature+ Curcumin Extract with Ginger Extra...</td>\n",
       "      <td>890.0</td>\n",
       "      <td>62.0</td>\n",
       "      <td>จังหวัดปทุมธานี</td>\n",
       "    </tr>\n",
       "  </tbody>\n",
       "</table>\n",
       "<p>300 rows × 5 columns</p>\n",
       "</div>"
      ],
      "text/plain": [
       "      ID                                           itemname   price  amount  \\\n",
       "0      0  Everydayy Organic ขมิ้นชัน พริกไทยดำ มะขามป้อม...   417.0     8.0   \n",
       "1      1                            ขมิ้นชนิดแคปซูลขมิ้นชัน    59.0   589.0   \n",
       "2      2  กาแฟ LAMOON 3แถม1 ลดปวดข้อ ปวดเข่า ข้ออักเสบ ส...   990.0   100.0   \n",
       "3      3  Vitanature+ Curcumin สารสกัดขมิ้นชัน ผสมสารสกั...  1990.0    24.0   \n",
       "4      4  ขมิ้นชัน เคอคูมินอยด์ Curcuma Longa Extract ตร...    68.0   240.0   \n",
       "..   ...                                                ...     ...     ...   \n",
       "295  295  Vitanature+ Curcumin ผลิตภัณฑ์เสริมอาหาร สารสก...   350.0   104.0   \n",
       "296  296  สารสกัดชมิ้นชันและผงขมิ้นชันชนิดแคปซูล IMMOR (...   705.0    81.0   \n",
       "297  297         แบรนด์ซุปไก่สกัด ผสมขมิ้นชัน 42 มล. แพค 12   415.0    65.0   \n",
       "298  298             PHYTO CARE ขมิ้นชันแคปซูล (100 แคปซูล)   150.0   138.0   \n",
       "299  299  vitanature+ Curcumin Extract with Ginger Extra...   890.0    62.0   \n",
       "\n",
       "                   province  \n",
       "0      จังหวัดกรุงเทพมหานคร  \n",
       "1      จังหวัดกรุงเทพมหานคร  \n",
       "2      จังหวัดกรุงเทพมหานคร  \n",
       "3           จังหวัดปทุมธานี  \n",
       "4      จังหวัดกรุงเทพมหานคร  \n",
       "..                      ...  \n",
       "295         จังหวัดปทุมธานี  \n",
       "296         จังหวัดปทุมธานี  \n",
       "297      จังหวัดสมุทรปราการ  \n",
       "298  จังหวัดพระนครศรีอยุธยา  \n",
       "299         จังหวัดปทุมธานี  \n",
       "\n",
       "[300 rows x 5 columns]"
      ]
     },
     "execution_count": 22,
     "metadata": {},
     "output_type": "execute_result"
    }
   ],
   "source": [
    "#ได้ทำการ drop ช่องว่างของหัวข้อที่มีการเว้นวรรคกันเนื่องจาก Data Dictionary จะไม่เเสดงผลใน DataPlatform ถ้าไม่ drop ()\n",
    "df =df.rename(columns={\"Unnamed: 0\" : \"ID\" })\n",
    "df"
   ]
  },
  {
   "cell_type": "markdown",
   "id": "847a64ca-d5a2-4fe9-b51d-11c08939dbf1",
   "metadata": {},
   "source": [
    "### Upload ลง Dataplatform"
   ]
  },
  {
   "cell_type": "code",
   "execution_count": 23,
   "id": "1eac9487-d35a-4089-afaa-fbcc74ed3852",
   "metadata": {},
   "outputs": [
    {
     "name": "stdin",
     "output_type": "stream",
     "text": [
      "File ข้อมูลการขายขมิ้นชันใน Shopee.parquet alrady exists, do you want to replace y/n :  y\n"
     ]
    },
    {
     "data": {
      "text/plain": [
       "{'sucess': True,\n",
       " 'file_id': 652,\n",
       " 'path': 'kanlaya/DSI310-17/processData/ข้อมูลการขายขมิ้นชันใน Shopee.parquet',\n",
       " 'lineage': True}"
      ]
     },
     "execution_count": 23,
     "metadata": {},
     "output_type": "execute_result"
    }
   ],
   "source": [
    "datanode.write(df=df, directory=dir_process_id, name=\"ข้อมูลการขายขมิ้นชันใน Shopee\", profiling=True, lineage=[datanode.get_file_id(directory_id=dir_raw_id, name='Shopee_Turmeric.csv')])"
   ]
  }
 ],
 "metadata": {
  "kernelspec": {
   "display_name": "Python 3 (ipykernel)",
   "language": "python",
   "name": "python3"
  },
  "language_info": {
   "codemirror_mode": {
    "name": "ipython",
    "version": 3
   },
   "file_extension": ".py",
   "mimetype": "text/x-python",
   "name": "python",
   "nbconvert_exporter": "python",
   "pygments_lexer": "ipython3",
   "version": "3.10.5"
  }
 },
 "nbformat": 4,
 "nbformat_minor": 5
}
