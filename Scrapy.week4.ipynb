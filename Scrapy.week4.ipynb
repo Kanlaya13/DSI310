{
 "cells": [
  {
   "cell_type": "markdown",
   "id": "4d5aece4-8267-400b-a4cf-a7e2d58f68c1",
   "metadata": {},
   "source": [
    "### Import function"
   ]
  },
  {
   "cell_type": "code",
   "execution_count": 9,
   "id": "05a89362-5e19-487b-b143-ca4e7a3fdec0",
   "metadata": {},
   "outputs": [],
   "source": [
    "from bs4 import BeautifulSoup as soup\n",
    "import requests\n",
    "from datetime import datetime\n",
    "import pandas as pd\n",
    "import json\n",
    "from dsmlibrary.datanode import DataNode"
   ]
  },
  {
   "cell_type": "markdown",
   "id": "c96769f6-9f56-45f1-9db0-90480a6a06a5",
   "metadata": {},
   "source": [
    "### Upload web ที่ทำการ Scrapy และทำการ Scrapy ข้อมูล"
   ]
  },
  {
   "cell_type": "code",
   "execution_count": 10,
   "id": "9b700883-9454-4fa1-8204-e27c091d6eb9",
   "metadata": {},
   "outputs": [],
   "source": [
    "r = requests.get('https://thestandard.co/?s=ขมิ้นชัน&search=')\n",
    "b = soup(r.content,'html.parser')"
   ]
  },
  {
   "cell_type": "code",
   "execution_count": 11,
   "id": "dbb7b18d-2061-4a1b-a346-749aa5c718dd",
   "metadata": {},
   "outputs": [],
   "source": [
    "title = []\n",
    "urls = []\n",
    "content = []\n",
    "published_date = []\n",
    "retrieved_date  = []"
   ]
  },
  {
   "cell_type": "code",
   "execution_count": 12,
   "id": "a80afaf6-983a-41fb-b4f8-4495979ea238",
   "metadata": {},
   "outputs": [],
   "source": [
    "for news in b.findAll('div', attrs={'class' : 'col-md-8'}):\n",
    "    titles = news.find('h3').get_text()\n",
    "    titles = titles.replace('\\n','')\n",
    "    urls.append(news.find('a', href=True)['href'])\n",
    "    #print(titles)\n",
    "    title.append(titles)\n",
    "\n",
    "#print(title)\n",
    "#print(urls)"
   ]
  },
  {
   "cell_type": "code",
   "execution_count": 13,
   "id": "4b7583d4-c277-4313-9e48-b8a0bebccdd2",
   "metadata": {},
   "outputs": [],
   "source": [
    "for link in urls:\n",
    "    page = requests.get(link)\n",
    "    bsobj = soup(page.content,'html.parser')\n",
    "    for n in bsobj.findAll('div', attrs={'class' : 'entry-content'}):\n",
    "        dis = n.text\n",
    "        dis = dis.replace('\\n','')\n",
    "        dis = dis.replace('\\xa0','')\n",
    "        content.append(dis)\n",
    "\n",
    "    for date in bsobj.findAll('div', attrs={'class' : 'meta-date'}):\n",
    "        date_p = date.find('span').get_text()\n",
    "        date_p = datetime.strptime(date_p, '%d.%m.%Y').strftime(\"%Y-%m-%d\")\n",
    "        published_date.append(date_p)\n",
    "        \n",
    "    r = (datetime.now()).strftime(\"%Y-%m-%d\")\n",
    "    retrieved_date.append(r)"
   ]
  },
  {
   "cell_type": "code",
   "execution_count": 14,
   "id": "3bf1ddfc-c6c8-4aef-9294-6f0c0c711b3d",
   "metadata": {},
   "outputs": [
    {
     "data": {
      "text/html": [
       "<div>\n",
       "<style scoped>\n",
       "    .dataframe tbody tr th:only-of-type {\n",
       "        vertical-align: middle;\n",
       "    }\n",
       "\n",
       "    .dataframe tbody tr th {\n",
       "        vertical-align: top;\n",
       "    }\n",
       "\n",
       "    .dataframe thead th {\n",
       "        text-align: right;\n",
       "    }\n",
       "</style>\n",
       "<table border=\"1\" class=\"dataframe\">\n",
       "  <thead>\n",
       "    <tr style=\"text-align: right;\">\n",
       "      <th></th>\n",
       "      <th>title</th>\n",
       "      <th>publish_date</th>\n",
       "      <th>retrieve_date</th>\n",
       "      <th>content</th>\n",
       "      <th>source_url</th>\n",
       "    </tr>\n",
       "  </thead>\n",
       "  <tbody>\n",
       "    <tr>\n",
       "      <th>0</th>\n",
       "      <td>แพทย์เผย ยังไม่มีงานวิจัยยืนยัน จิบน้ำขมิ้นชัน...</td>\n",
       "      <td>2020-07-30</td>\n",
       "      <td>2022-11-15</td>\n",
       "      <td>วันนี้ (30 กรกฎาคม) นพ.สมศักดิ์ อรรฆศิลป์ อธิบ...</td>\n",
       "      <td>https://thestandard.co/physician-say-no-eviden...</td>\n",
       "    </tr>\n",
       "    <tr>\n",
       "      <th>1</th>\n",
       "      <td>10 ประโยชน์ของขมิ้นชันต่อสุขภาพผิวหนัง</td>\n",
       "      <td>2019-07-02</td>\n",
       "      <td>2022-11-15</td>\n",
       "      <td>ขมิ้น หรือขมิ้นชัน จัดเป็นพืชสมุนไพรที่คนไทยผู...</td>\n",
       "      <td>https://thestandard.co/turmeric-benefits-for-s...</td>\n",
       "    </tr>\n",
       "    <tr>\n",
       "      <th>2</th>\n",
       "      <td>เชฟวิชิต แห่ง Royal Osha พร้อมเสิร์ฟเมนูใหม่สไ...</td>\n",
       "      <td>2022-10-24</td>\n",
       "      <td>2022-11-15</td>\n",
       "      <td>ใครที่เป็นแฟนอาหารฝีมือเชฟมิชลินสตาร์ 1 ดาวอย่...</td>\n",
       "      <td>https://thestandard.co/royal-osha-chefs-table-...</td>\n",
       "    </tr>\n",
       "    <tr>\n",
       "      <th>3</th>\n",
       "      <td>เปิดประสบการณ์นวดฟินกาย สบายใจ ที่ Vana Belle ...</td>\n",
       "      <td>2022-09-16</td>\n",
       "      <td>2022-11-15</td>\n",
       "      <td>หากคุณกำลังมีแพลนจะไปเยือนเกาะสมุย และกำลังมอง...</td>\n",
       "      <td>https://thestandard.co/vana-belle-koh-samui/</td>\n",
       "    </tr>\n",
       "    <tr>\n",
       "      <th>4</th>\n",
       "      <td>ส่องเทรนด์ Wellness Tourism การท่องเที่ยวเชิงส...</td>\n",
       "      <td>2022-06-03</td>\n",
       "      <td>2022-11-15</td>\n",
       "      <td>การระบาดของเชื้อไวรัสและโรคภัยต่างๆ ในปัจจุบัน...</td>\n",
       "      <td>https://thestandard.co/wellness-tourism/</td>\n",
       "    </tr>\n",
       "  </tbody>\n",
       "</table>\n",
       "</div>"
      ],
      "text/plain": [
       "                                               title publish_date  \\\n",
       "0  แพทย์เผย ยังไม่มีงานวิจัยยืนยัน จิบน้ำขมิ้นชัน...   2020-07-30   \n",
       "1            10 ประโยชน์ของขมิ้นชันต่อสุขภาพผิวหนัง    2019-07-02   \n",
       "2  เชฟวิชิต แห่ง Royal Osha พร้อมเสิร์ฟเมนูใหม่สไ...   2022-10-24   \n",
       "3  เปิดประสบการณ์นวดฟินกาย สบายใจ ที่ Vana Belle ...   2022-09-16   \n",
       "4  ส่องเทรนด์ Wellness Tourism การท่องเที่ยวเชิงส...   2022-06-03   \n",
       "\n",
       "  retrieve_date                                            content  \\\n",
       "0    2022-11-15  วันนี้ (30 กรกฎาคม) นพ.สมศักดิ์ อรรฆศิลป์ อธิบ...   \n",
       "1    2022-11-15  ขมิ้น หรือขมิ้นชัน จัดเป็นพืชสมุนไพรที่คนไทยผู...   \n",
       "2    2022-11-15  ใครที่เป็นแฟนอาหารฝีมือเชฟมิชลินสตาร์ 1 ดาวอย่...   \n",
       "3    2022-11-15  หากคุณกำลังมีแพลนจะไปเยือนเกาะสมุย และกำลังมอง...   \n",
       "4    2022-11-15  การระบาดของเชื้อไวรัสและโรคภัยต่างๆ ในปัจจุบัน...   \n",
       "\n",
       "                                          source_url  \n",
       "0  https://thestandard.co/physician-say-no-eviden...  \n",
       "1  https://thestandard.co/turmeric-benefits-for-s...  \n",
       "2  https://thestandard.co/royal-osha-chefs-table-...  \n",
       "3       https://thestandard.co/vana-belle-koh-samui/  \n",
       "4           https://thestandard.co/wellness-tourism/  "
      ]
     },
     "execution_count": 14,
     "metadata": {},
     "output_type": "execute_result"
    }
   ],
   "source": [
    "#สร้าง Dataframe เพื่อให้ข้อมูลเป็นสัดส่วน\n",
    "table = pd.DataFrame([title, published_date, retrieved_date, content, urls]).transpose()\n",
    "table.columns = ['title','publish_date','retrieve_date','content','source_url']\n",
    "table.head()"
   ]
  },
  {
   "cell_type": "code",
   "execution_count": 15,
   "id": "6d891d80-3128-47d3-892a-09deaa7a5c3f",
   "metadata": {},
   "outputs": [],
   "source": [
    "table = table.to_dict('records')"
   ]
  },
  {
   "cell_type": "markdown",
   "id": "25447810-8e32-4034-bcd1-bea1171e220b",
   "metadata": {},
   "source": [
    "### เรียกใช้ datanode และUpload ข้อมูลลง DataPlatform"
   ]
  },
  {
   "cell_type": "code",
   "execution_count": 16,
   "id": "0707753f-5cab-49d1-8d81-d0ac34ac68f9",
   "metadata": {},
   "outputs": [],
   "source": [
    "with open('turmeric_thestandard.json','w', encoding='utf8') as json_file:\n",
    "    json.dump(table, json_file)"
   ]
  },
  {
   "cell_type": "code",
   "execution_count": 17,
   "id": "d6a70c12-3f75-459c-833e-b001babd7c1f",
   "metadata": {},
   "outputs": [],
   "source": [
    "dir_raw_id = 71"
   ]
  },
  {
   "cell_type": "code",
   "execution_count": 18,
   "id": "7e30fc61-8de2-47d9-b52b-6a2548de0624",
   "metadata": {},
   "outputs": [
    {
     "name": "stdout",
     "output_type": "stream",
     "text": [
      "Init DataNode sucessful!\n"
     ]
    }
   ],
   "source": [
    "datanode = DataNode()"
   ]
  },
  {
   "cell_type": "code",
   "execution_count": 19,
   "id": "9e9db6dc-052e-471f-a61b-ae83ea8f2f5d",
   "metadata": {},
   "outputs": [
    {
     "name": "stdin",
     "output_type": "stream",
     "text": [
      "File turmeric_thestandard.json alrady exists, do you want to replace y/n :  y\n"
     ]
    },
    {
     "data": {
      "application/vnd.jupyter.widget-view+json": {
       "model_id": "47342d7cd06f44269090df1a1c8644ec",
       "version_major": 2,
       "version_minor": 0
      },
      "text/plain": [
       "  0%|          | 0.00/182k [00:00<?, ?B/s]"
      ]
     },
     "metadata": {},
     "output_type": "display_data"
    },
    {
     "data": {
      "text/plain": [
       "{'id': 830,\n",
       " 'msg': 'file turmeric_thestandard.json create sucessful',\n",
       " 'path': 'kanlaya/DSI310-17/rawData/turmeric_thestandard.json',\n",
       " 'uploaded': True}"
      ]
     },
     "execution_count": 19,
     "metadata": {},
     "output_type": "execute_result"
    }
   ],
   "source": [
    "datanode.upload_file(directory_id=dir_raw_id, file_path='turmeric_thestandard.json')"
   ]
  },
  {
   "cell_type": "code",
   "execution_count": null,
   "id": "ce910470-e850-456d-b9d1-485347477a66",
   "metadata": {},
   "outputs": [],
   "source": []
  }
 ],
 "metadata": {
  "kernelspec": {
   "display_name": "Python 3 (ipykernel)",
   "language": "python",
   "name": "python3"
  },
  "language_info": {
   "codemirror_mode": {
    "name": "ipython",
    "version": 3
   },
   "file_extension": ".py",
   "mimetype": "text/x-python",
   "name": "python",
   "nbconvert_exporter": "python",
   "pygments_lexer": "ipython3",
   "version": "3.10.5"
  }
 },
 "nbformat": 4,
 "nbformat_minor": 5
}
